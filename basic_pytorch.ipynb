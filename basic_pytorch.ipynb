{
  "nbformat": 4,
  "nbformat_minor": 0,
  "metadata": {
    "colab": {
      "provenance": [],
      "authorship_tag": "ABX9TyP9OTUtGQ4oQfsCNH8QBvjU",
      "include_colab_link": true
    },
    "kernelspec": {
      "name": "python3",
      "display_name": "Python 3"
    },
    "language_info": {
      "name": "python"
    }
  },
  "cells": [
    {
      "cell_type": "markdown",
      "metadata": {
        "id": "view-in-github",
        "colab_type": "text"
      },
      "source": [
        "<a href=\"https://colab.research.google.com/github/ramram9/Tutorial/blob/testbranch/basic_pytorch.ipynb\" target=\"_parent\"><img src=\"https://colab.research.google.com/assets/colab-badge.svg\" alt=\"Open In Colab\"/></a>"
      ]
    },
    {
      "cell_type": "code",
      "execution_count": null,
      "metadata": {
        "id": "HQE91pp8djAT"
      },
      "outputs": [],
      "source": [
        "import torch\n",
        "import numpy as np"
      ]
    },
    {
      "cell_type": "markdown",
      "source": [
        "# Tensor"
      ],
      "metadata": {
        "id": "YyRo9BTEdyUm"
      }
    },
    {
      "cell_type": "code",
      "source": [
        "#텐서 초기화\n",
        "\n",
        "#데이터로 부터 직접 생성\n",
        "data = [[1,2], [3,4]]\n",
        "x_data = torch.tensor(data)\n",
        "x_data"
      ],
      "metadata": {
        "colab": {
          "base_uri": "https://localhost:8080/"
        },
        "id": "e0hAWY2tdsr4",
        "outputId": "7a7d8e17-3549-4942-c694-939fc0781ae1"
      },
      "execution_count": null,
      "outputs": [
        {
          "output_type": "execute_result",
          "data": {
            "text/plain": [
              "tensor([[1, 2],\n",
              "        [3, 4]])"
            ]
          },
          "metadata": {},
          "execution_count": 3
        }
      ]
    },
    {
      "cell_type": "code",
      "source": [
        "x_data.dtype"
      ],
      "metadata": {
        "colab": {
          "base_uri": "https://localhost:8080/"
        },
        "id": "IpyIA0vAh1UC",
        "outputId": "e378390d-2178-463c-9781-08d7b7db5724"
      },
      "execution_count": null,
      "outputs": [
        {
          "output_type": "execute_result",
          "data": {
            "text/plain": [
              "torch.int64"
            ]
          },
          "metadata": {},
          "execution_count": 4
        }
      ]
    },
    {
      "cell_type": "code",
      "source": [
        "#넘파이 배열로부터 생성하기\n",
        "np_array = np.array(data)\n",
        "x_np = torch.from_numpy(np_array)\n",
        "x_np"
      ],
      "metadata": {
        "colab": {
          "base_uri": "https://localhost:8080/"
        },
        "id": "iZDgn8C8d-e0",
        "outputId": "5e9405dd-3115-479d-d8f5-24174d06ad93"
      },
      "execution_count": null,
      "outputs": [
        {
          "output_type": "execute_result",
          "data": {
            "text/plain": [
              "tensor([[1, 2],\n",
              "        [3, 4]])"
            ]
          },
          "metadata": {},
          "execution_count": 5
        }
      ]
    },
    {
      "cell_type": "code",
      "source": [
        "#다른 텐서로부터 생성하기\n",
        "#명시적으로 override하지 않는다면 인자로 주어진 텐서의 (shape, datatype)유지\n",
        "x_ones = torch.ones_like(x_data) #x_data의 속성 유지\n",
        "x_rand = torch.rand_like(x_data, dtype=float) #x_data의 속성 덮어쓰기\n",
        "print(f'ones tensor:\\n {x_ones}\\n')\n",
        "print(f'random tensor:\\n {x_rand}\\n')"
      ],
      "metadata": {
        "colab": {
          "base_uri": "https://localhost:8080/"
        },
        "id": "uZyYx2Owep89",
        "outputId": "b1952e6a-fe48-4cd7-b07b-31365401bb20"
      },
      "execution_count": null,
      "outputs": [
        {
          "output_type": "stream",
          "name": "stdout",
          "text": [
            "ones tensor:\n",
            " tensor([[1, 1],\n",
            "        [1, 1]])\n",
            "\n",
            "random tensor:\n",
            " tensor([[0.9672, 0.0500],\n",
            "        [0.9051, 0.9773]], dtype=torch.float64)\n",
            "\n"
          ]
        }
      ]
    },
    {
      "cell_type": "markdown",
      "source": [
        " torch.ones_like 함수는 입력 텐서의 크기, 데이터 타입 등 속성을 그대로 유지하지만, 데이터는 복사하지 않고 값이 모두 1인 텐서를 새로 만듭니다.\n",
        "\n",
        " torch.rand_like 함수는 기본적으로 float32 타입의 텐서를 생성 (int64 데이터 타입을 지원하지않음 명시적으로 float라고 지정해줘야 변환을 한다네)"
      ],
      "metadata": {
        "id": "8cyQFj8ogJK0"
      }
    },
    {
      "cell_type": "code",
      "source": [
        "#random or constant 값 사용하기\n",
        "shape = (2,3)\n",
        "rand_tensor = torch.rand(shape)\n",
        "ones_tensor = torch.ones(shape)\n",
        "zeros_tensor = torch.zeros(shape)\n",
        "\n",
        "print(f'random tensor: \\n{rand_tensor} \\n')\n",
        "print(f'radom tensor: \\n {ones_tensor} \\n')\n",
        "print(f'random tensor: \\n {zeros_tensor} \\n')"
      ],
      "metadata": {
        "colab": {
          "base_uri": "https://localhost:8080/"
        },
        "id": "PloWaKoYhpMd",
        "outputId": "cd06967c-8d19-4623-f007-52b3f16ded00"
      },
      "execution_count": null,
      "outputs": [
        {
          "output_type": "stream",
          "name": "stdout",
          "text": [
            "random tensor: \n",
            "tensor([[0.0067, 0.9288, 0.9433],\n",
            "        [0.8019, 0.7802, 0.3844]]) \n",
            "\n",
            "radom tensor: \n",
            " tensor([[1., 1., 1.],\n",
            "        [1., 1., 1.]]) \n",
            "\n",
            "random tensor: \n",
            " tensor([[0., 0., 0.],\n",
            "        [0., 0., 0.]]) \n",
            "\n"
          ]
        }
      ]
    },
    {
      "cell_type": "code",
      "source": [
        "#텐서의 속성\n",
        "tensor = torch.rand(3,4)\n",
        "print(f'shape of tensor: {tensor.shape}')\n",
        "print(f'datatype of tensor: {tensor.dtype}')\n",
        "print(f'devixe tensor is stored on: {tensor.device}')"
      ],
      "metadata": {
        "colab": {
          "base_uri": "https://localhost:8080/"
        },
        "id": "uAayLxjmkGRJ",
        "outputId": "0c01ec0f-d1e5-4e47-e165-870fe8f28abe"
      },
      "execution_count": null,
      "outputs": [
        {
          "output_type": "stream",
          "name": "stdout",
          "text": [
            "shape of tensor: torch.Size([3, 4])\n",
            "datatype of tensor: torch.float32\n",
            "devixe tensor is stored on: cpu\n"
          ]
        }
      ]
    },
    {
      "cell_type": "code",
      "source": [
        "#tensor operation\n",
        "tensor = torch.ones(4,4)\n",
        "print(f'first row: {tensor[0]}')\n",
        "print(f'firrst column: {tensor[:,0]}')\n",
        "tensor[:,-1] =2\n",
        "print(f'last column: {tensor[...,-1]}')\n"
      ],
      "metadata": {
        "colab": {
          "base_uri": "https://localhost:8080/"
        },
        "id": "JUNWBYClk17z",
        "outputId": "b397ee9a-1c8f-4bfd-c66e-0aa3f22e0263"
      },
      "execution_count": null,
      "outputs": [
        {
          "output_type": "stream",
          "name": "stdout",
          "text": [
            "first row: tensor([1., 1., 1., 1.])\n",
            "firrst column: tensor([1., 1., 1., 1.])\n",
            "last column: tensor([2., 2., 2., 2.])\n"
          ]
        }
      ]
    },
    {
      "cell_type": "markdown",
      "source": [
        "tensor[:, -1]->:는 모든 행을 의미하고, -1은 마지막 열을 의미 (2차원 텐서에서만 사용)\n",
        "\n",
        "tensor[..., -1]-> ...는 모든 차원을 의미하고, -1은 마지막 축의 마지막 요소를 의미, ...는 여러 차원에서 동작하기 때문에, 3차원 이상 텐서에서도 동일한 방식으로 사용"
      ],
      "metadata": {
        "id": "1suzzWq7mBRn"
      }
    },
    {
      "cell_type": "code",
      "source": [
        "#텐서 합치기\n",
        "t1 = torch.cat([tensor, tensor, tensor], dim=-1)\n",
        "print(t1)"
      ],
      "metadata": {
        "colab": {
          "base_uri": "https://localhost:8080/"
        },
        "id": "-3kXsWiomRG7",
        "outputId": "10cecfaf-4e47-42f2-9b3a-4f03504d9c61"
      },
      "execution_count": null,
      "outputs": [
        {
          "output_type": "stream",
          "name": "stdout",
          "text": [
            "tensor([[1., 1., 1., 2., 1., 1., 1., 2., 1., 1., 1., 2.],\n",
            "        [1., 1., 1., 2., 1., 1., 1., 2., 1., 1., 1., 2.],\n",
            "        [1., 1., 1., 2., 1., 1., 1., 2., 1., 1., 1., 2.],\n",
            "        [1., 1., 1., 2., 1., 1., 1., 2., 1., 1., 1., 2.]])\n"
          ]
        }
      ]
    },
    {
      "cell_type": "markdown",
      "source": [
        "dim=1 -->두번째 차원(열)을 따라 연결했음을 의미한다.\n",
        "\n",
        "지정하지않으면 dim=0 첫번재 차원인 행을 따라서 연결한다.\n",
        "-1은 마지막 차원 -2는 마지막에서 두번재 차원을 의미\n",
        "\n"
      ],
      "metadata": {
        "id": "VRE3SaKCnWJx"
      }
    },
    {
      "cell_type": "code",
      "source": [
        "#(tensor joining operator) torch.stack(tensors, dim=0, *, out=None)->Tensor\n",
        "x = torch.randn(2, 3)\n",
        "print(x)\n",
        "x = torch.stack((x,x), dim=2)\n",
        "print(x)\n"
      ],
      "metadata": {
        "colab": {
          "base_uri": "https://localhost:8080/"
        },
        "id": "qH8zdw0GmuY2",
        "outputId": "c75eadb5-ac51-41f8-8b07-6cc3bcfc41e2"
      },
      "execution_count": null,
      "outputs": [
        {
          "output_type": "stream",
          "name": "stdout",
          "text": [
            "tensor([[-1.2788, -0.6075, -0.8422],\n",
            "        [-0.9747,  0.2668,  0.1772]])\n",
            "tensor([[[-1.2788, -1.2788],\n",
            "         [-0.6075, -0.6075],\n",
            "         [-0.8422, -0.8422]],\n",
            "\n",
            "        [[-0.9747, -0.9747],\n",
            "         [ 0.2668,  0.2668],\n",
            "         [ 0.1772,  0.1772]]])\n"
          ]
        }
      ]
    },
    {
      "cell_type": "code",
      "source": [
        "#산술연산 (Arithmetic operations)\n",
        "#matrix multiplication\n",
        "#tensor.T = transpose matrix\n",
        "tensor = torch.ones(4,4)\n",
        "tensor[:,1]=0\n",
        "print(tensor)\n",
        "y1 = tensor @ tensor.T\n",
        "print(y1)\n",
        "y2 = tensor.matmul(tensor.T)\n",
        "\n",
        "y3 = torch.rand_like(y1)\n",
        "\n",
        "torch.matmul(tensor, tensor.T, out=y3)\n",
        "\n",
        "#element-wise product\n",
        "z1 = tensor*tensor\n",
        "z2 = tensor.mul(tensor)\n",
        "z3 = torch.rand_like(tensor)\n",
        "torch.mul(tensor, tensor, out=z3)"
      ],
      "metadata": {
        "colab": {
          "base_uri": "https://localhost:8080/"
        },
        "id": "UNTi6d_gleco",
        "outputId": "01b98aa7-55a5-45be-e1a4-a413588d089c"
      },
      "execution_count": null,
      "outputs": [
        {
          "output_type": "stream",
          "name": "stdout",
          "text": [
            "tensor([[1., 0., 1., 1.],\n",
            "        [1., 0., 1., 1.],\n",
            "        [1., 0., 1., 1.],\n",
            "        [1., 0., 1., 1.]])\n",
            "tensor([[3., 3., 3., 3.],\n",
            "        [3., 3., 3., 3.],\n",
            "        [3., 3., 3., 3.],\n",
            "        [3., 3., 3., 3.]])\n"
          ]
        },
        {
          "output_type": "execute_result",
          "data": {
            "text/plain": [
              "tensor([[1., 0., 1., 1.],\n",
              "        [1., 0., 1., 1.],\n",
              "        [1., 0., 1., 1.],\n",
              "        [1., 0., 1., 1.]])"
            ]
          },
          "metadata": {},
          "execution_count": 12
        }
      ]
    },
    {
      "cell_type": "code",
      "source": [
        "#single-element\n",
        "agg = tensor.sum() #aggregate(집계)\n",
        "agg_item = agg.item() #item()을 사용하여 숫자값으로 변환\n",
        "print(agg_item, type(agg_item))"
      ],
      "metadata": {
        "colab": {
          "base_uri": "https://localhost:8080/"
        },
        "id": "nCQZwFZE9f3p",
        "outputId": "1ed816b6-ad82-457b-e84c-a18412367c02"
      },
      "execution_count": null,
      "outputs": [
        {
          "output_type": "stream",
          "name": "stdout",
          "text": [
            "12.0 <class 'float'>\n"
          ]
        }
      ]
    },
    {
      "cell_type": "code",
      "source": [
        "#바꿔치기 (in-place)연산 -> 연산결과를 operand(피연산자)에 저장하는 연산 _접미사를 가진다\n",
        "#x.copy_(y), x.t_() 는 x를 변경한다.\n",
        "print(f\"{tensor} \\n\")\n",
        "tensor.add_(5)\n",
        "print(tensor)"
      ],
      "metadata": {
        "colab": {
          "base_uri": "https://localhost:8080/"
        },
        "id": "fBx0xEEOJT7C",
        "outputId": "15083607-6d14-4e46-e690-30fab228c74f"
      },
      "execution_count": null,
      "outputs": [
        {
          "output_type": "stream",
          "name": "stdout",
          "text": [
            "tensor([[1., 0., 1., 1.],\n",
            "        [1., 0., 1., 1.],\n",
            "        [1., 0., 1., 1.],\n",
            "        [1., 0., 1., 1.]]) \n",
            "\n",
            "tensor([[6., 5., 6., 6.],\n",
            "        [6., 5., 6., 6.],\n",
            "        [6., 5., 6., 6.],\n",
            "        [6., 5., 6., 6.]])\n"
          ]
        }
      ]
    },
    {
      "cell_type": "markdown",
      "source": [
        "바꿔치기 연산은 메모리를 일부 절약하지만, 기록(history)이 즉시 삭제되어 도함수(derivative) 계산에 문제가 발생할 수 있습니다. 따라서, 사용을 권장하지 않습니다."
      ],
      "metadata": {
        "id": "XrBUfFvOK3Kt"
      }
    },
    {
      "cell_type": "code",
      "source": [
        "#Numpy 변환 (Bridge)\n",
        "#CPU 상의 텐서와 NumPy 배열은 메모리 공간을 공유하기 때문에, 하나를 변경하면 다른 하나도 변경됩니다.\n",
        "\n",
        "#텐서를 numpy 배열로 변환하기\n",
        "t = torch.ones(5)\n",
        "print(f't: {t}')\n",
        "n = t.numpy()\n",
        "print(f'n: {n}')"
      ],
      "metadata": {
        "colab": {
          "base_uri": "https://localhost:8080/"
        },
        "id": "Yuhga6nOK2fh",
        "outputId": "ee8f069d-6b93-4e6c-cc32-0613e1523120"
      },
      "execution_count": null,
      "outputs": [
        {
          "output_type": "stream",
          "name": "stdout",
          "text": [
            "t: tensor([1., 1., 1., 1., 1.])\n",
            "n: [1. 1. 1. 1. 1.]\n"
          ]
        }
      ]
    },
    {
      "cell_type": "code",
      "source": [
        "#NumPy 배열의 변경 사항이 텐서에 반영됩니다.\n",
        "t.add_(1)\n",
        "print(f't: {t}')\n",
        "print(f'n: {n}')"
      ],
      "metadata": {
        "colab": {
          "base_uri": "https://localhost:8080/"
        },
        "id": "81qnMYstK0RT",
        "outputId": "98534bd1-11cb-4abb-f0b9-ccb6600f8169"
      },
      "execution_count": null,
      "outputs": [
        {
          "output_type": "stream",
          "name": "stdout",
          "text": [
            "t: tensor([2., 2., 2., 2., 2.])\n",
            "n: [2. 2. 2. 2. 2.]\n"
          ]
        }
      ]
    },
    {
      "cell_type": "markdown",
      "source": [
        "# DATASET과 DATALOADER"
      ],
      "metadata": {
        "id": "aAJ4WXT3PKRy"
      }
    },
    {
      "cell_type": "markdown",
      "source": [
        "PyTorch는 torch.utils.data.DataLoader 와 torch.utils.data.Dataset 의 두 가지 데이터 기본 요소를 제공하여 미리 준비해둔(pre-loaded) 데이터셋 뿐만 아니라 가지고 있는 데이터를 사용할 수 있도록 합니다.\n",
        "\n",
        "Dataset 은 샘플과 정답(label)을 저장하고, DataLoader 는 Dataset 을 샘플에 쉽게 접근할 수 있도록 순회 가능한 객체(iterable)로 감쌉니다."
      ],
      "metadata": {
        "id": "97sMZqxaPlxO"
      }
    },
    {
      "cell_type": "code",
      "source": [
        "\n",
        "import torch\n",
        "from torch.utils.data import Dataset\n",
        "from torchvision import datasets\n",
        "from torchvision.transforms import ToTensor\n",
        "import matplotlib.pyplot as plt\n",
        "\n",
        "#데이터 셋 불러오기\n",
        "training_data = datasets.FashionMNIST(\n",
        "    root = 'sample_data',\n",
        "    train = True,\n",
        "    download = True, #root에 데이터가 없는 경우 , 인터넷에서 다운로드\n",
        "    transform = ToTensor() #변환기 생성 이미지 데이터를 PyTorch 텐서로 변환\n",
        ")\n",
        "#transform -> feature을 변환  target_transformdm->label을 변환\n",
        "\n",
        "test_data = datasets.FashionMNIST(\n",
        "    root = 'sample_data',\n",
        "    train = False,\n",
        "    download = True,\n",
        "    transform = ToTensor()\n",
        ")\n"
      ],
      "metadata": {
        "colab": {
          "base_uri": "https://localhost:8080/"
        },
        "id": "iuD9kcX7NL4J",
        "outputId": "8d59bcfd-b2e9-4c3a-a9c2-4983ed40e123"
      },
      "execution_count": null,
      "outputs": [
        {
          "output_type": "stream",
          "name": "stdout",
          "text": [
            "Downloading http://fashion-mnist.s3-website.eu-central-1.amazonaws.com/train-images-idx3-ubyte.gz\n",
            "Downloading http://fashion-mnist.s3-website.eu-central-1.amazonaws.com/train-images-idx3-ubyte.gz to sample_data/FashionMNIST/raw/train-images-idx3-ubyte.gz\n"
          ]
        },
        {
          "output_type": "stream",
          "name": "stderr",
          "text": [
            "100%|██████████| 26421880/26421880 [00:01<00:00, 17932314.21it/s]\n"
          ]
        },
        {
          "output_type": "stream",
          "name": "stdout",
          "text": [
            "Extracting sample_data/FashionMNIST/raw/train-images-idx3-ubyte.gz to sample_data/FashionMNIST/raw\n",
            "\n",
            "Downloading http://fashion-mnist.s3-website.eu-central-1.amazonaws.com/train-labels-idx1-ubyte.gz\n",
            "Downloading http://fashion-mnist.s3-website.eu-central-1.amazonaws.com/train-labels-idx1-ubyte.gz to sample_data/FashionMNIST/raw/train-labels-idx1-ubyte.gz\n"
          ]
        },
        {
          "output_type": "stream",
          "name": "stderr",
          "text": [
            "100%|██████████| 29515/29515 [00:00<00:00, 339602.29it/s]\n"
          ]
        },
        {
          "output_type": "stream",
          "name": "stdout",
          "text": [
            "Extracting sample_data/FashionMNIST/raw/train-labels-idx1-ubyte.gz to sample_data/FashionMNIST/raw\n",
            "\n",
            "Downloading http://fashion-mnist.s3-website.eu-central-1.amazonaws.com/t10k-images-idx3-ubyte.gz\n",
            "Downloading http://fashion-mnist.s3-website.eu-central-1.amazonaws.com/t10k-images-idx3-ubyte.gz to sample_data/FashionMNIST/raw/t10k-images-idx3-ubyte.gz\n"
          ]
        },
        {
          "output_type": "stream",
          "name": "stderr",
          "text": [
            "100%|██████████| 4422102/4422102 [00:00<00:00, 5549407.41it/s]\n"
          ]
        },
        {
          "output_type": "stream",
          "name": "stdout",
          "text": [
            "Extracting sample_data/FashionMNIST/raw/t10k-images-idx3-ubyte.gz to sample_data/FashionMNIST/raw\n",
            "\n",
            "Downloading http://fashion-mnist.s3-website.eu-central-1.amazonaws.com/t10k-labels-idx1-ubyte.gz\n",
            "Downloading http://fashion-mnist.s3-website.eu-central-1.amazonaws.com/t10k-labels-idx1-ubyte.gz to sample_data/FashionMNIST/raw/t10k-labels-idx1-ubyte.gz\n"
          ]
        },
        {
          "output_type": "stream",
          "name": "stderr",
          "text": [
            "100%|██████████| 5148/5148 [00:00<00:00, 5928686.71it/s]"
          ]
        },
        {
          "output_type": "stream",
          "name": "stdout",
          "text": [
            "Extracting sample_data/FashionMNIST/raw/t10k-labels-idx1-ubyte.gz to sample_data/FashionMNIST/raw\n",
            "\n"
          ]
        },
        {
          "output_type": "stream",
          "name": "stderr",
          "text": [
            "\n"
          ]
        }
      ]
    },
    {
      "cell_type": "code",
      "source": [
        "#데이터셋을 순회하고 시각화하기\n",
        "#training_data[index]. matplotlib 을 사용하여 학습 데이터의 일부를 시각화\n",
        "\n",
        "labels_map = {\n",
        "    0: \"T-Shirt\",\n",
        "    1: \"Trouser\",\n",
        "    2: \"Pullover\",\n",
        "    3: \"Dress\",\n",
        "    4: \"Coat\",\n",
        "    5: \"Sandal\",\n",
        "    6: \"Shirt\",\n",
        "    7: \"Sneaker\",\n",
        "    8: \"Bag\",\n",
        "    9: \"Ankle Boot\",\n",
        "}\n",
        "\n",
        "figure = plt.figure(figsize=(8,8))\n",
        "cols, rows =3,3\n",
        "for i in range(1, cols*rows+1):\n",
        "  sample_idx = torch.randint(len(training_data), size=(1,)).item() #0에서 len(training_data) - 1 사이의 랜덤 정수를 생성\n",
        "  img, label = training_data[sample_idx]\n",
        "  figure.add_subplot(rows, cols, i)\n",
        "  plt.title(labels_map[label])\n",
        "  plt.axis('off')\n",
        "  plt.imshow(img.squeeze(), cmap='gray')\n",
        "\n",
        "plt.show()"
      ],
      "metadata": {
        "colab": {
          "base_uri": "https://localhost:8080/",
          "height": 675
        },
        "id": "A7ovpddwTv41",
        "outputId": "68420189-a392-458d-d0d3-60bb778d8d52"
      },
      "execution_count": null,
      "outputs": [
        {
          "output_type": "display_data",
          "data": {
            "text/plain": [
              "<Figure size 800x800 with 9 Axes>"
            ],
            "image/png": "[encoded data removed]"
          },
          "metadata": {}
        }
      ]
    },
    {
      "cell_type": "code",
      "source": [
        "#파일에서 사용자 정의 데이터 셋 만들기\n",
        "#사용자 정의 Dataset 클래스는 반드시 3개 함수를 구현해야 합니다: __init__, __len__, and __getitem__.\n",
        "#이미지 = img_dir 디렉토리에 저장\n",
        "#정답은 annotations_file csv 파일에 별도로 저장\n",
        "\n",
        "import os\n",
        "import pandas as pd\n",
        "from torchvision.io import read_image\n",
        "\n",
        "#__init__ 함수는 Dataset 객체가 생성(instantiate)될 때 한 번만 실행됩니다.\n",
        "#여기서는 이미지와 주석 파일(annotation_file)이 포함된 디렉토리와 (다음 장에서 자세히 살펴볼) 두가지 변형(transform)을 초기화합니다.\n",
        "class CustomImageDataset(Dataset):\n",
        "  def __init__(self, annotation_file,img_dirm, transform=None, target_transform=None)\n",
        "      self.img_labels = pd.read_csv(annotations_file, names=['file_name', 'label'])\n",
        "      self.img_dir = img_dir\n",
        "      self.transform = transform\n",
        "      self.target_transform = training_transform\n",
        "\n",
        "#__len__ 함수는 데이터셋의 샘플 개수를 반환합니다.\n",
        "  def __len__(self, img_lables)\n",
        "      return len(self.img_labels)\n",
        "\n",
        "  def __getitem__(self, idx):\n",
        "      img_path = os.path.join(self.img_dir, self.img_labels.iloc[idx,0])\n",
        "      image = read_image(img_path)\n",
        "      label = self.img_dir.iloc"
      ],
      "metadata": {
        "id": "GHp9WyNAVUKY"
      },
      "execution_count": null,
      "outputs": []
    },
    {
      "cell_type": "markdown",
      "source": [
        "df.iloc[행의 위치, 열의 위치]\n",
        ".iloc는 pandas 라이브러리에서 DataFrame 및 Series의 행과 열을 정수 기반의 위치로 선택할 수 있게 해주는 인덱서\n",
        "\n",
        ".iloc를 사용하면 행과 열의 정수 위치를 사용하여 데이터를 선택, 필터링, 수정할 수 있습니다.\n"
      ],
      "metadata": {
        "id": "ww0j3nKOh4fN"
      }
    },
    {
      "cell_type": "code",
      "source": [],
      "metadata": {
        "id": "Y1CojlGzI-Ru"
      },
      "execution_count": null,
      "outputs": []
    }
  ]
}